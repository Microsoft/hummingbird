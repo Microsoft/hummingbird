{
 "cells": [
  {
      "cell_type": "code",
      "metadata": {}, 
      "source": [
        "!pip install hummingbird_ml"
      ],
      "execution_count": null,
      "outputs": []
    },
  {
   "cell_type": "code",
   "execution_count": 1,
   "metadata": {},
   "outputs": [],
   "source": [
    "import numpy as np\n",
    "import torch\n",
    "from sklearn.ensemble import RandomForestClassifier\n",
    "from sklearn.datasets import load_breast_cancer\n",
    "from hummingbird.ml import convert\n"
   ]
  },
  {
   "cell_type": "code",
   "execution_count": 2,
   "metadata": {},
   "outputs": [],
   "source": [
    "# We are going to use the breast cancer dataset from scikit-learn for this example.\n",
    "X, y = load_breast_cancer(return_X_y=True)\n",
    "nrows=15000\n",
    "X = X[0:nrows].astype('|f4')\n",
    "y = y[0:nrows]"
   ]
  },
  {
   "cell_type": "code",
   "execution_count": 3,
   "metadata": {},
   "outputs": [
    {
     "output_type": "execute_result",
     "data": {
      "text/plain": "RandomForestClassifier(bootstrap=True, class_weight=None, criterion='gini',\n                       max_depth=10, max_features='auto', max_leaf_nodes=None,\n                       min_impurity_decrease=0.0, min_impurity_split=None,\n                       min_samples_leaf=1, min_samples_split=2,\n                       min_weight_fraction_leaf=0.0, n_estimators=10,\n                       n_jobs=None, oob_score=False, random_state=None,\n                       verbose=0, warm_start=False)"
     },
     "metadata": {},
     "execution_count": 3
    }
   ],
   "source": [
    "# Create and train a random forest model.\n",
    "model = RandomForestClassifier(n_estimators=10, max_depth=10)\n",
    "model.fit(X, y)"
   ]
  },
  {
   "cell_type": "code",
   "execution_count": 4,
   "metadata": {},
   "outputs": [
    {
     "output_type": "stream",
     "name": "stdout",
     "text": "1.5 ms ± 5.5 µs per loop (mean ± std. dev. of 3 runs, 1000 loops each)\n"
    }
   ],
   "source": [
    "%%timeit -r 3\n",
    "\n",
    "# Time for scikit-learn.\n",
    "model.predict(X)"
   ]
  },
  {
   "cell_type": "code",
   "execution_count": 5,
   "metadata": {},
   "outputs": [],
   "source": [
    "model = convert(model, 'pytorch', extra_config={\"tree_implementation\":\"gemm\"})"
   ]
  },
  {
   "cell_type": "code",
   "execution_count": 6,
   "metadata": {},
   "outputs": [
    {
     "output_type": "stream",
     "name": "stdout",
     "text": "4.24 ms ± 184 µs per loop (mean ± std. dev. of 3 runs, 100 loops each)\n"
    }
   ],
   "source": [
    "%%timeit -r 3\n",
    "\n",
    "# Time for HB.\n",
    "model.predict(X)"
   ]
  },
  {
   "cell_type": "code",
   "execution_count": 7,
   "metadata": {},
   "outputs": [
    {
     "output_type": "execute_result",
     "data": {
      "text/plain": "PyTorchBackendModel(\n  (operator_map): ModuleDict(\n    (SklearnRandomForestClassifier): GEMMDecisionTreeImpl()\n  )\n)"
     },
     "metadata": {},
     "execution_count": 7
    }
   ],
   "source": [
    "model.to('cuda')"
   ]
  },
  {
   "cell_type": "code",
   "execution_count": 8,
   "metadata": {},
   "outputs": [
    {
     "output_type": "stream",
     "name": "stdout",
     "text": "467 µs ± 2.29 µs per loop (mean ± std. dev. of 3 runs, 1000 loops each)\n"
    }
   ],
   "source": [
    "%%timeit -r 3\n",
    "\n",
    "# Time for HB GPU.\n",
    "model.predict(X)"
   ]
  },
  {
   "cell_type": "code",
   "execution_count": null,
   "metadata": {},
   "outputs": [],
   "source": []
  }
 ],
 "metadata": {
  "kernelspec": {
   "display_name": "Python 3",
   "language": "python",
   "name": "python3"
  },
  "language_info": {
   "codemirror_mode": {
    "name": "ipython",
    "version": 3
   },
   "file_extension": ".py",
   "mimetype": "text/x-python",
   "name": "python",
   "nbconvert_exporter": "python",
   "pygments_lexer": "ipython3",
   "version": "3.7.6-final"
  }
 },
 "nbformat": 4,
 "nbformat_minor": 2
}
